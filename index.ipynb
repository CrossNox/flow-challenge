{
 "cells": [
  {
   "cell_type": "markdown",
   "metadata": {
    "slideshow": {
     "slide_type": "slide"
    }
   },
   "source": [
    "# Challenge Recomendador\n",
    "\n",
    "## Defensa de la entrega del challenge de Recomendador para flow\n",
    "### Campus Party 2021\n",
    "\n",
    "Gianmarco Cafferata  - I. Javier Mermet"
   ]
  },
  {
   "cell_type": "markdown",
   "metadata": {
    "slideshow": {
     "slide_type": "slide"
    },
    "tags": []
   },
   "source": [
    "# Problema inicial\n",
    "\n",
    "Evaluar las top-20 recomendaciones para ~100k usuarios de flow desde feedback implícito"
   ]
  },
  {
   "cell_type": "markdown",
   "metadata": {
    "slideshow": {
     "slide_type": "subslide"
    },
    "tags": []
   },
   "source": [
    "# Desafíos personales"
   ]
  },
  {
   "cell_type": "markdown",
   "metadata": {
    "slideshow": {
     "slide_type": "fragment"
    },
    "tags": []
   },
   "source": [
    "Poca disponibilidad personal para la competencia\n",
    "\n",
    "![image.png](./images/0392fba5-6cc3-4180-98f2-fc0f2374e4a7.png)"
   ]
  },
  {
   "cell_type": "markdown",
   "metadata": {
    "slideshow": {
     "slide_type": "fragment"
    },
    "tags": []
   },
   "source": [
    "Evaluar el uso del dataset para las clases de [Organización de Datos, cátedra Collinet](https://orga-de-datos.github.io) ✨📚"
   ]
  },
  {
   "cell_type": "markdown",
   "metadata": {
    "slideshow": {
     "slide_type": "subslide"
    },
    "tags": []
   },
   "source": [
    "## Escalabilidad\n",
    "\n",
    "Teníamos que idear una solución que pudiera generar las recomendaciones en un tiempo aceptable"
   ]
  },
  {
   "cell_type": "markdown",
   "metadata": {
    "slideshow": {
     "slide_type": "subslide"
    },
    "tags": []
   },
   "source": [
    "## Innovación\n",
    "\n",
    "Queríamos salir del molde y probar ideas nuevas que nos resultaran interesantes 🧠"
   ]
  },
  {
   "cell_type": "markdown",
   "metadata": {
    "slideshow": {
     "slide_type": "slide"
    },
    "tags": []
   },
   "source": [
    "# Nuestro camino al segundo score más alto"
   ]
  },
  {
   "cell_type": "markdown",
   "metadata": {
    "slideshow": {
     "slide_type": "fragment"
    },
    "tags": []
   },
   "source": [
    "- Arrancar por código de utilidades común a cualquier enfoque"
   ]
  },
  {
   "cell_type": "markdown",
   "metadata": {
    "slideshow": {
     "slide_type": "fragment"
    },
    "tags": []
   },
   "source": [
    "- Definir e implementar la metodología de evaluación de modelos"
   ]
  },
  {
   "cell_type": "markdown",
   "metadata": {
    "slideshow": {
     "slide_type": "fragment"
    },
    "tags": []
   },
   "source": [
    "- Discutir posibles sesgos de las metodologías utilizadas"
   ]
  },
  {
   "cell_type": "markdown",
   "metadata": {
    "slideshow": {
     "slide_type": "fragment"
    },
    "tags": []
   },
   "source": [
    "- Armar un modelo baseline _naive_ para tener un score de referencia\n",
    "  - Un score cercano al de baseline pero con mayor `serendipia` es considerado mejor"
   ]
  },
  {
   "cell_type": "markdown",
   "metadata": {
    "slideshow": {
     "slide_type": "slide"
    },
    "tags": []
   },
   "source": [
    "# Baseline\n",
    "\n",
    "- Contenidos más populares\n",
    "- Todas las vistas de cada usuario de cada contenido"
   ]
  },
  {
   "cell_type": "markdown",
   "metadata": {
    "slideshow": {
     "slide_type": "fragment"
    },
    "tags": []
   },
   "source": [
    "score alcanzado en test: `0.031757233518683224`"
   ]
  },
  {
   "cell_type": "markdown",
   "metadata": {
    "slideshow": {
     "slide_type": "subslide"
    },
    "tags": []
   },
   "source": [
    "# Baseline normalizado\n",
    "\n",
    "- Contenidos más populares\n",
    "- Todas las vistas de cada usuario de cada contenido\n",
    "- Normalizado por la cantidad de assets"
   ]
  },
  {
   "cell_type": "markdown",
   "metadata": {
    "slideshow": {
     "slide_type": "fragment"
    },
    "tags": []
   },
   "source": [
    "score alcanzando en test: `0.03327874393933289`"
   ]
  },
  {
   "cell_type": "markdown",
   "metadata": {
    "slideshow": {
     "slide_type": "slide"
    },
    "tags": []
   },
   "source": [
    "# NMF"
   ]
  },
  {
   "cell_type": "code",
   "execution_count": 4,
   "metadata": {
    "slideshow": {
     "slide_type": "fragment"
    },
    "tags": []
   },
   "outputs": [],
   "source": [
    "from surprise import NMF"
   ]
  },
  {
   "cell_type": "markdown",
   "metadata": {
    "slideshow": {
     "slide_type": "fragment"
    },
    "tags": []
   },
   "source": [
    "Descartado por consumir RAM excesiva (40+GB)"
   ]
  },
  {
   "cell_type": "markdown",
   "metadata": {
    "slideshow": {
     "slide_type": "slide"
    },
    "tags": []
   },
   "source": [
    "# LightFM"
   ]
  },
  {
   "cell_type": "code",
   "execution_count": 5,
   "metadata": {
    "slideshow": {
     "slide_type": "fragment"
    },
    "tags": []
   },
   "outputs": [],
   "source": [
    "from lightfm import LightFM"
   ]
  },
  {
   "cell_type": "markdown",
   "metadata": {
    "slideshow": {
     "slide_type": "fragment"
    },
    "tags": []
   },
   "source": [
    "Enfoque basado en `Factorization machines`"
   ]
  },
  {
   "cell_type": "markdown",
   "metadata": {
    "slideshow": {
     "slide_type": "fragment"
    },
    "tags": []
   },
   "source": [
    "Representaciones `implicítas` de usuarios e ítems"
   ]
  },
  {
   "cell_type": "markdown",
   "metadata": {
    "slideshow": {
     "slide_type": "subslide"
    },
    "tags": []
   },
   "source": [
    "## Incluyendo matriz de features de ítems\n",
    "\n",
    "- OHE de variables categóricas\n",
    "- Pendiente: TF-IDF de variables de texto\n",
    "- Peores métricas de evaluación\n",
    "  - Pendiente de revisión"
   ]
  },
  {
   "cell_type": "markdown",
   "metadata": {
    "slideshow": {
     "slide_type": "subslide"
    },
    "tags": []
   },
   "source": [
    "## Búsqueda de hiperparámetros"
   ]
  },
  {
   "cell_type": "markdown",
   "metadata": {
    "slideshow": {
     "slide_type": "fragment"
    },
    "tags": []
   },
   "source": [
    "`aggregation method`"
   ]
  },
  {
   "cell_type": "markdown",
   "metadata": {
    "slideshow": {
     "slide_type": "fragment"
    },
    "tags": []
   },
   "source": [
    "`n_components`"
   ]
  },
  {
   "cell_type": "markdown",
   "metadata": {
    "slideshow": {
     "slide_type": "fragment"
    },
    "tags": []
   },
   "source": [
    "`max_sampled`"
   ]
  },
  {
   "cell_type": "markdown",
   "metadata": {
    "slideshow": {
     "slide_type": "fragment"
    },
    "tags": []
   },
   "source": [
    "`lr`"
   ]
  },
  {
   "cell_type": "markdown",
   "metadata": {
    "slideshow": {
     "slide_type": "fragment"
    },
    "tags": []
   },
   "source": [
    "`epochs`"
   ]
  },
  {
   "cell_type": "markdown",
   "metadata": {
    "slideshow": {
     "slide_type": "subslide"
    },
    "tags": []
   },
   "source": [
    "## Evaluación"
   ]
  },
  {
   "cell_type": "markdown",
   "metadata": {
    "slideshow": {
     "slide_type": "fragment"
    },
    "tags": []
   },
   "source": [
    "score alcanzado en test: `0.04172341550928344`"
   ]
  },
  {
   "cell_type": "markdown",
   "metadata": {
    "slideshow": {
     "slide_type": "subslide"
    },
    "tags": []
   },
   "source": [
    "# Escalabilidad\n",
    "\n",
    "`Wall time: 20min 10s`\n",
    "\n",
    "(Dell XPS 9560 - Intel® Core™ i7-7700HQ CPU @ 2.80GHz × 8  - 16 GB RAM - SSD - Fedora 34 - python38)\n",
    "\n"
   ]
  },
  {
   "cell_type": "markdown",
   "metadata": {
    "slideshow": {
     "slide_type": "fragment"
    },
    "tags": []
   },
   "source": [
    "Se puede correr como batch en airflow"
   ]
  },
  {
   "cell_type": "markdown",
   "metadata": {
    "slideshow": {
     "slide_type": "fragment"
    },
    "tags": []
   },
   "source": [
    "Clustering si la base de usuarios escala!"
   ]
  },
  {
   "cell_type": "markdown",
   "metadata": {
    "slideshow": {
     "slide_type": "slide"
    },
    "tags": []
   },
   "source": [
    "# K-Deep Encoder\n",
    "\n",
    "* Redes de arquitectura siamesa para el encoding de items\n",
    "* Encoding de secuencia de entrada $I$ y de salida $O$ con attention y convoluciones\n",
    "\n",
    "    $\\underset{o \\in O}{\\arg\\max}\\,\\textit{Model}(I, O)$"
   ]
  },
  {
   "cell_type": "markdown",
   "metadata": {
    "slideshow": {
     "slide_type": "subslide"
    },
    "tags": []
   },
   "source": [
    "## Content Encoder\n",
    "<img alt=\"Qries\" src=\"images/flow_encoder.png\" width=\"60%\">"
   ]
  },
  {
   "cell_type": "markdown",
   "metadata": {
    "slideshow": {
     "slide_type": "fragment"
    },
    "tags": []
   },
   "source": [
    "* 6300∼ parámetros"
   ]
  },
  {
   "cell_type": "markdown",
   "metadata": {
    "slideshow": {
     "slide_type": "fragment"
    },
    "tags": []
   },
   "source": [
    "* AUC-ROC: 0.8832"
   ]
  },
  {
   "cell_type": "markdown",
   "metadata": {
    "slideshow": {
     "slide_type": "subslide"
    },
    "tags": []
   },
   "source": [
    "## Sequence predictor\n",
    "<img alt=\"Qries\" src=\"images/flow_predictor_1.png\" width=\"60%\">"
   ]
  },
  {
   "cell_type": "markdown",
   "metadata": {
    "slideshow": {
     "slide_type": "subslide"
    },
    "tags": []
   },
   "source": [
    "## Sequence predictor\n",
    "<img alt=\"Qries\" src=\"images/flow_predictor_2.png\" width=\"60%\">"
   ]
  },
  {
   "cell_type": "markdown",
   "metadata": {
    "slideshow": {
     "slide_type": "subslide"
    },
    "tags": []
   },
   "source": [
    "## Sequence predictor\n",
    "### Version sin optimizar\n",
    "\n",
    "* Tiempo: 25.09s/usuario\n",
    "* MAP en test: 0.1099041433105365\n",
    "\n",
    "### Version optimizada\n",
    "\n",
    "* Tiempo: 5.28s/usuario\n",
    "* MAP en test: 0.08420398669885898"
   ]
  },
  {
   "cell_type": "markdown",
   "metadata": {
    "slideshow": {
     "slide_type": "slide"
    },
    "tags": []
   },
   "source": [
    "# Conclusiones\n",
    "- `LightFM` fue el sweet spot del tradeoff entre resultados y escalabilidad\n",
    "- Puntos de mejora identificados\n",
    "- Queda lugar para mejorar los resultados e incorporar nuevas técnicas"
   ]
  },
  {
   "cell_type": "markdown",
   "metadata": {
    "slideshow": {
     "slide_type": "slide"
    },
    "tags": []
   },
   "source": [
    "# Gracias!\n",
    "\n",
    "Ignacio Javier Mermet - ML Engineer @ [Mutt Data](https://muttdata.ai)  \n",
    "<a href=\"https://www.linkedin.com/in/javier-mermet/\">\n",
    "   <img alt=\"Qries\" src=\"https://i.pinimg.com/originals/fa/1f/5b/fa1f5b2e196350cecadd3ab070cf41d3.png\" width=\"40\">\n",
    "</a> <a href=\"https://github.com/CrossNox/\">\n",
    "   <img alt=\"Qries\" src=\"https://logos-download.com/wp-content/uploads/2016/09/GitHub_logo.png\" width=\"40\">\n",
    "</a>\n",
    "\n",
    "\n",
    "Gianmarco Cafferata - Data Scientist @ [Mercado libre](https://www.mercadolibre.com.ar)  \n",
    "<a href=\"https://www.linkedin.com/in/gianmarco-cafferata-0b3974115/\">\n",
    "   <img alt=\"Qries\" src=\"https://i.pinimg.com/originals/fa/1f/5b/fa1f5b2e196350cecadd3ab070cf41d3.png\" width=\"40\">\n",
    "</a> <a href=\"https://github.com/jian01\">\n",
    "   <img alt=\"Qries\" src=\"https://logos-download.com/wp-content/uploads/2016/09/GitHub_logo.png\" width=\"40\">\n",
    "</a>"
   ]
  }
 ],
 "metadata": {
  "kernelspec": {
   "display_name": "Python 3 (ipykernel)",
   "language": "python",
   "name": "python3"
  },
  "language_info": {
   "codemirror_mode": {
    "name": "ipython",
    "version": 3
   },
   "file_extension": ".py",
   "mimetype": "text/x-python",
   "name": "python",
   "nbconvert_exporter": "python",
   "pygments_lexer": "ipython3",
   "version": "3.9.5"
  },
  "toc-showtags": true
 },
 "nbformat": 4,
 "nbformat_minor": 4
}
