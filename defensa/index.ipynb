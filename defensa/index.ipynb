{
 "cells": [
  {
   "cell_type": "markdown",
   "metadata": {
    "slideshow": {
     "slide_type": "slide"
    }
   },
   "source": [
    "# Challenge Recomendador\n",
    "\n",
    "### Defensa de la entrega del challenge de Recomendador para flow - Campus Party 2021\n",
    "\n",
    "\n",
    "Gianmarco Cafferata  - I. Javier Mermet"
   ]
  },
  {
   "cell_type": "markdown",
   "metadata": {
    "slideshow": {
     "slide_type": "slide"
    },
    "tags": []
   },
   "source": [
    "# Problema inicial\n",
    "\n",
    "Evaluar las top-20 recomendaciones para ~100k usuarios de flow desde feedback implicito"
   ]
  },
  {
   "cell_type": "markdown",
   "metadata": {
    "slideshow": {
     "slide_type": "subslide"
    },
    "tags": []
   },
   "source": [
    "# Desafios personales"
   ]
  },
  {
   "cell_type": "markdown",
   "metadata": {
    "slideshow": {
     "slide_type": "fragment"
    },
    "tags": []
   },
   "source": [
    "Poca disponibilidad personal para la competencia\n",
    "\n",
    "![image.png](./images/0392fba5-6cc3-4180-98f2-fc0f2374e4a7.png)"
   ]
  },
  {
   "cell_type": "markdown",
   "metadata": {
    "slideshow": {
     "slide_type": "fragment"
    },
    "tags": []
   },
   "source": [
    "Evaluar el uso del dataset para las clases de [Organizacion de Datos, catedra Collinet](https://orga-de-datos.github.io) ✨📚"
   ]
  },
  {
   "cell_type": "markdown",
   "metadata": {
    "slideshow": {
     "slide_type": "subslide"
    },
    "tags": []
   },
   "source": [
    "## Escalabilidad\n",
    "\n",
    "Teniamos que idear una solucion que pudiera generar las recomendaciones en un tiempo aceptable"
   ]
  },
  {
   "cell_type": "markdown",
   "metadata": {
    "slideshow": {
     "slide_type": "subslide"
    },
    "tags": []
   },
   "source": [
    "## Innovacion\n",
    "\n",
    "Queriamos salir del molde y probar ideas nuevas que nos resultaran interesantes 🧠"
   ]
  },
  {
   "cell_type": "markdown",
   "metadata": {
    "slideshow": {
     "slide_type": "slide"
    },
    "tags": []
   },
   "source": [
    "# Nuestro camino al segundo score mas alto"
   ]
  },
  {
   "cell_type": "markdown",
   "metadata": {
    "slideshow": {
     "slide_type": "fragment"
    },
    "tags": []
   },
   "source": [
    "- Arrancar por codigo de utilidades comun a cualquier enfoque"
   ]
  },
  {
   "cell_type": "markdown",
   "metadata": {
    "slideshow": {
     "slide_type": "fragment"
    },
    "tags": []
   },
   "source": [
    "- Definir e implementar la metodologia de evaluacion de modelos"
   ]
  },
  {
   "cell_type": "markdown",
   "metadata": {
    "slideshow": {
     "slide_type": "fragment"
    },
    "tags": []
   },
   "source": [
    "- Discutir posibles sesgos de las metodologias utilizadas"
   ]
  },
  {
   "cell_type": "markdown",
   "metadata": {
    "slideshow": {
     "slide_type": "fragment"
    },
    "tags": []
   },
   "source": [
    "- Armar un modelo baseline _naive_ para tener un score de referencia\n",
    "  - Un score cercano al de baseline pero con mayor `serendipia` es considerado mejor"
   ]
  },
  {
   "cell_type": "markdown",
   "metadata": {
    "slideshow": {
     "slide_type": "slide"
    },
    "tags": []
   },
   "source": [
    "# Baseline\n",
    "\n",
    "- Contenidos mas populares\n",
    "- Todas las vistas de cada usuario de cada contenido"
   ]
  },
  {
   "cell_type": "markdown",
   "metadata": {
    "slideshow": {
     "slide_type": "fragment"
    },
    "tags": []
   },
   "source": [
    "score alcanzado en test: `0.031757233518683224`"
   ]
  },
  {
   "cell_type": "markdown",
   "metadata": {
    "slideshow": {
     "slide_type": "subslide"
    },
    "tags": []
   },
   "source": [
    "# Baseline normalizado\n",
    "\n",
    "- Contenidos mas populares\n",
    "- Todas las vistas de cada usuario de cada contenido\n",
    "- Normalizado por la cantidad de assets"
   ]
  },
  {
   "cell_type": "markdown",
   "metadata": {
    "slideshow": {
     "slide_type": "fragment"
    },
    "tags": []
   },
   "source": [
    "score alcanzando en test: `0.03327874393933289`"
   ]
  },
  {
   "cell_type": "markdown",
   "metadata": {
    "slideshow": {
     "slide_type": "slide"
    },
    "tags": []
   },
   "source": [
    "# NMF\n",
    "\n",
    "`from surprise import NMF`"
   ]
  },
  {
   "cell_type": "markdown",
   "metadata": {
    "slideshow": {
     "slide_type": "fragment"
    },
    "tags": []
   },
   "source": [
    "Descartado por consumir RAM excesiva (40+GB)"
   ]
  },
  {
   "cell_type": "markdown",
   "metadata": {
    "slideshow": {
     "slide_type": "slide"
    },
    "tags": []
   },
   "source": [
    "# LightFM"
   ]
  },
  {
   "cell_type": "markdown",
   "metadata": {
    "slideshow": {
     "slide_type": "fragment"
    },
    "tags": []
   },
   "source": [
    "`from lightfm import LightFM`"
   ]
  },
  {
   "cell_type": "markdown",
   "metadata": {
    "slideshow": {
     "slide_type": "fragment"
    },
    "tags": []
   },
   "source": [
    "Enfoque basado en `Factorization machines`"
   ]
  },
  {
   "cell_type": "markdown",
   "metadata": {
    "slideshow": {
     "slide_type": "fragment"
    },
    "tags": []
   },
   "source": [
    "Representaciones `implicitas` de usuarios e items"
   ]
  },
  {
   "cell_type": "markdown",
   "metadata": {
    "slideshow": {
     "slide_type": "subslide"
    },
    "tags": []
   },
   "source": [
    "## Incluyendo matriz de features de items\n",
    "\n",
    "- OHE de variables categoricas\n",
    "- Pendiente: TF-IDF de variables de texto\n",
    "- Peores metricas de evaluacion\n",
    "  - Pendiente de revision"
   ]
  },
  {
   "cell_type": "markdown",
   "metadata": {
    "slideshow": {
     "slide_type": "subslide"
    },
    "tags": []
   },
   "source": [
    "## Busqueda de hiperparametros"
   ]
  },
  {
   "cell_type": "markdown",
   "metadata": {
    "slideshow": {
     "slide_type": "fragment"
    },
    "tags": []
   },
   "source": [
    "`aggregation method`"
   ]
  },
  {
   "cell_type": "markdown",
   "metadata": {
    "slideshow": {
     "slide_type": "fragment"
    },
    "tags": []
   },
   "source": [
    "`n_components`"
   ]
  },
  {
   "cell_type": "markdown",
   "metadata": {
    "slideshow": {
     "slide_type": "fragment"
    },
    "tags": []
   },
   "source": [
    "`max_sampled`"
   ]
  },
  {
   "cell_type": "markdown",
   "metadata": {
    "slideshow": {
     "slide_type": "fragment"
    },
    "tags": []
   },
   "source": [
    "`lr`"
   ]
  },
  {
   "cell_type": "markdown",
   "metadata": {
    "slideshow": {
     "slide_type": "fragment"
    },
    "tags": []
   },
   "source": [
    "`epochs`"
   ]
  },
  {
   "cell_type": "markdown",
   "metadata": {
    "slideshow": {
     "slide_type": "subslide"
    },
    "tags": []
   },
   "source": [
    "## Evaluacion"
   ]
  },
  {
   "cell_type": "markdown",
   "metadata": {
    "slideshow": {
     "slide_type": "fragment"
    },
    "tags": []
   },
   "source": [
    "score alcanzado en test: ``"
   ]
  },
  {
   "cell_type": "markdown",
   "metadata": {
    "slideshow": {
     "slide_type": "subslide"
    },
    "tags": []
   },
   "source": [
    "# Escalabilidad\n",
    "\n",
    "`Wall time: 20min 10s`\n",
    "\n",
    "(Dell XPS 9560 - Intel® Core™ i7-7700HQ CPU @ 2.80GHz × 8  - 16 GB RAM - SSD - Fedora 34 - python38)\n",
    "\n"
   ]
  },
  {
   "cell_type": "markdown",
   "metadata": {
    "slideshow": {
     "slide_type": "slide"
    },
    "tags": []
   },
   "source": [
    "# K-Deep Encoder"
   ]
  },
  {
   "cell_type": "markdown",
   "metadata": {
    "slideshow": {
     "slide_type": "slide"
    },
    "tags": []
   },
   "source": [
    "# Conclusiones\n",
    "- `LightFM` fue el sweet spot del tradeoff entre resultados y escalabilidad\n",
    "- Puntos de mejora identificados\n",
    "- Queda lugar para mejorar los resultados e incorporar nuevas tecnicas"
   ]
  },
  {
   "cell_type": "markdown",
   "metadata": {
    "slideshow": {
     "slide_type": "slide"
    },
    "tags": []
   },
   "source": [
    "# Gracias!\n",
    "\n",
    "Ignacio Javier Mermet - ML Engineer @ [Mutt Data](https://muttdata.ai)  \n",
    "<a href=\"https://www.linkedin.com/in/javier-mermet/\">\n",
    "   <img alt=\"Qries\" src=\"https://i.pinimg.com/originals/fa/1f/5b/fa1f5b2e196350cecadd3ab070cf41d3.png\" width=\"40\">\n",
    "</a>\n",
    "<a href=\"https://github.com/CrossNox/\">\n",
    "   <img alt=\"Qries\" src=\"https://logos-download.com/wp-content/uploads/2016/09/GitHub_logo.png\" width=\"40\">\n",
    "</a>\n",
    "\n",
    "\n",
    "Gianmarco Cafferata - Data Scientist @ [Mercado libre](https://www.mercadolibre.com.ar)  \n",
    "<a href=\"https://www.linkedin.com/in/gianmarco-cafferata-0b3974115/\">\n",
    "   <img alt=\"Qries\" src=\"https://i.pinimg.com/originals/fa/1f/5b/fa1f5b2e196350cecadd3ab070cf41d3.png\" width=\"40\">\n",
    "</a>\n",
    "<a href=\"https://github.com/jian01\">\n",
    "   <img alt=\"Qries\" src=\"https://logos-download.com/wp-content/uploads/2016/09/GitHub_logo.png\" width=\"40\">\n",
    "</a>\n",
    "    \n",
    "\n",
    "\n",
    "\n"
   ]
  },
  {
   "cell_type": "code",
   "execution_count": null,
   "metadata": {},
   "outputs": [],
   "source": []
  }
 ],
 "metadata": {
  "kernelspec": {
   "display_name": "Python 3",
   "language": "python",
   "name": "python3"
  },
  "language_info": {
   "codemirror_mode": {
    "name": "ipython",
    "version": 3
   },
   "file_extension": ".py",
   "mimetype": "text/x-python",
   "name": "python",
   "nbconvert_exporter": "python",
   "pygments_lexer": "ipython3",
   "version": "3.7.10"
  },
  "toc-showtags": true
 },
 "nbformat": 4,
 "nbformat_minor": 4
}
